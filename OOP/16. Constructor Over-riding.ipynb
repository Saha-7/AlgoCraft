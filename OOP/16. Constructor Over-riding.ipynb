{
 "cells": [
  {
   "cell_type": "markdown",
   "id": "a52bbb30",
   "metadata": {},
   "source": [
    "# How Constructor Over-riding works in Inheritance\n",
    "\n",
    "- By default Parent class constructor is available to its child class."
   ]
  },
  {
   "cell_type": "code",
   "execution_count": 1,
   "id": "2c993397",
   "metadata": {},
   "outputs": [
    {
     "name": "stdout",
     "output_type": "stream",
     "text": [
      "father constructor is called\n",
      "{'veichle': 'Scooter'}\n"
     ]
    }
   ],
   "source": [
    "class Father:\n",
    "    def __init__(self):\n",
    "        print(\"father constructor is called\")\n",
    "        self.veichle = \"Scooter\"\n",
    "\n",
    "class Son(Father):\n",
    "    pass\n",
    "\n",
    "s= Son()\n",
    "\n",
    "print(s.__dict__)"
   ]
  },
  {
   "cell_type": "markdown",
   "id": "f521a683",
   "metadata": {},
   "source": [
    "# Constructor over-riding when child class has no constructor available"
   ]
  },
  {
   "cell_type": "code",
   "execution_count": 3,
   "id": "31f4c483",
   "metadata": {},
   "outputs": [
    {
     "name": "stdout",
     "output_type": "stream",
     "text": [
      "Son constructor is called\n",
      "{'veichle': 'Bike'}\n"
     ]
    }
   ],
   "source": [
    "class Father:\n",
    "    def __init__(self):\n",
    "        print(\"father constructor is called\")\n",
    "        self.veichle = \"Scooter\"\n",
    "\n",
    "class Son(Father):\n",
    "    def __init__(self):\n",
    "        print(\"Son constructor is called\")\n",
    "        self.veichle = \"Bike\"\n",
    "\n",
    "s= Son()\n",
    "\n",
    "print(s.__dict__)"
   ]
  }
 ],
 "metadata": {
  "kernelspec": {
   "display_name": "Python 3",
   "language": "python",
   "name": "python3"
  },
  "language_info": {
   "codemirror_mode": {
    "name": "ipython",
    "version": 3
   },
   "file_extension": ".py",
   "mimetype": "text/x-python",
   "name": "python",
   "nbconvert_exporter": "python",
   "pygments_lexer": "ipython3",
   "version": "3.12.0"
  }
 },
 "nbformat": 4,
 "nbformat_minor": 5
}
