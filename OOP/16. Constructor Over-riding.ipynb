{
 "cells": [
  {
   "cell_type": "markdown",
   "id": "a52bbb30",
   "metadata": {},
   "source": [
    "# How Constructor Over-riding works in Inheritance\n",
    "\n",
    "- By default Parent class constructor is available to its child class."
   ]
  },
  {
   "cell_type": "code",
   "execution_count": null,
   "id": "2c993397",
   "metadata": {},
   "outputs": [],
   "source": [
    "class Father:\n",
    "    def __init__(self):\n",
    "        print(\"father constructor is called\")\n",
    "        self.veichle = \"Scooter\"\n",
    "\n",
    "class Son(Father):\n",
    "    pass\n",
    "\n",
    "s= Son()\n",
    "\n",
    "print(s.__dict__)"
   ]
  }
 ],
 "metadata": {
  "kernelspec": {
   "display_name": "Python 3",
   "language": "python",
   "name": "python3"
  },
  "language_info": {
   "name": "python",
   "version": "3.12.0"
  }
 },
 "nbformat": 4,
 "nbformat_minor": 5
}
