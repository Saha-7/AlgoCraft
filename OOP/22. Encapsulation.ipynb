{
 "cells": [
  {
   "cell_type": "markdown",
   "id": "39432b01",
   "metadata": {},
   "source": [
    "# Encapsulation :- \n",
    "\n",
    "- wrapping up variables & methods working on data together in a single unit is called as encapsulation."
   ]
  },
  {
   "cell_type": "markdown",
   "id": "3afe72d4",
   "metadata": {},
   "source": [
    "# Encapsulation usage:- \n",
    "\n",
    "- Encapsulation is used to restrict access & modification of data outside of class.\n",
    "\n",
    "- Security\n",
    "\n",
    "- Prevents accidental modification\n",
    "\n",
    "- Simplicity"
   ]
  },
  {
   "cell_type": "code",
   "execution_count": null,
   "id": "cbeec48b",
   "metadata": {},
   "outputs": [
    {
     "name": "stdout",
     "output_type": "stream",
     "text": [
      "John\n",
      " Name : John \n",
      " Salary : 50000 \n"
     ]
    }
   ],
   "source": [
    "## Without Encapsulation\n",
    "class Employee:\n",
    "    def __init__(self,name,salary):\n",
    "        self.name=name\n",
    "        self.salary=salary\n",
    "\n",
    "    def display(self):\n",
    "        print(f\" Name : {self.name} \\n Salary : {self.salary} \")\n",
    "\n",
    "e1= Employee(\"John\",50000)\n",
    "\n",
    "print(e1.name)      ## Accessing via object refrence not allowed in Encapsulation\n",
    "e1.display()        ## Accessing through method allowed in Encapsulation\n",
    "        "
   ]
  },
  {
   "cell_type": "markdown",
   "id": "ac3d3940",
   "metadata": {},
   "source": [
    "# Access Modifiers in Python :- \n",
    "\n",
    "- Generally we restrict data access outside the class in encapsulation.\n",
    "\n",
    "- Encapsulation can be achieved by declaring the variables & methods of a class as private.\n",
    "\n",
    "- Three access specifiers:-\n",
    "\n",
    " 1. Public [ Accessible from anywhere by using object refrence ]\n",
    "\n",
    " 2. Private [ Accessible only within the class ] \n",
    "\n",
    " 3. Protected [ Accessible within the class & its subclasses ]"
   ]
  },
  {
   "cell_type": "code",
   "execution_count": null,
   "id": "2828e515",
   "metadata": {},
   "outputs": [
    {
     "name": "stdout",
     "output_type": "stream",
     "text": [
      "{'revenue': 10000, 'number_of_sales': 114}\n",
      "{'revenue': 1, 'number_of_sales': 114}\n"
     ]
    }
   ],
   "source": [
    "## Public Access Modifiers [Accessible from anywhere by using object refrence]\n",
    "\n",
    "class Finance:\n",
    "    def __init__(self):\n",
    "        self.revenue=10000\n",
    "        self.number_of_sales=114\n",
    "\n",
    "f1=Finance()\n",
    "\n",
    "print(f1.__dict__)\n",
    "\n",
    "class HR:\n",
    "    def __init__(self):\n",
    "        self.number_of_emp=32\n",
    "        f1.revenue=1           ## Easily access & modification possible\n",
    "\n",
    "h1=HR()\n",
    "print(f1.__dict__)"
   ]
  },
  {
   "cell_type": "code",
   "execution_count": null,
   "id": "16141c8c",
   "metadata": {},
   "outputs": [
    {
     "name": "stdout",
     "output_type": "stream",
     "text": [
      "{'_Finance__revenue': 10000, '_Finance__number_of_sales': 114}\n",
      "{'_Finance__revenue': 10000, '_Finance__number_of_sales': 114, '_HR__revenue': 0}\n"
     ]
    }
   ],
   "source": [
    "# Private [ Accessible only within the class ] \n",
    "\n",
    "## using '_' in front of variable names to stop direct access\n",
    "\n",
    "class Finance:\n",
    "    def __init__(self):\n",
    "        self.__revenue=10000        # Private Data\n",
    "        self.__number_of_sales=114  # Protected Data\n",
    "\n",
    "f1=Finance()\n",
    "\n",
    "print(f1.__dict__)\n",
    "\n",
    "class HR:\n",
    "    def __init__(self):\n",
    "        self.number_of_emp=32\n",
    "        f1.__revenue=0          ## Trying to access/Modification the original data \n",
    "\n",
    "h1=HR()\n",
    "print(f1.__dict__)\n",
    "\n",
    "\n",
    "## Key Takeaway\n",
    "\n",
    "# Double underscore (__var) makes attributes private by name mangling → stored as _ClassName__var.\n",
    "\n",
    "# If you try f1.__revenue outside, Python just creates a new variable instead of modifying the real one."
   ]
  },
  {
   "cell_type": "code",
   "execution_count": 9,
   "id": "6f9ebb11",
   "metadata": {},
   "outputs": [
    {
     "name": "stdout",
     "output_type": "stream",
     "text": [
      "10000\n",
      "20000\n"
     ]
    }
   ],
   "source": [
    "# Encapsulation best practice, you should only access private variables from inside the class,\n",
    "# using methods (getters/setters)\n",
    "\n",
    "class Finance:\n",
    "    def __init__(self):\n",
    "        self.__revenue = 10000\n",
    "\n",
    "    # Getter\n",
    "    def get_revenue(self):\n",
    "        return self.__revenue\n",
    "\n",
    "    # Setter\n",
    "    def set_revenue(self, value):\n",
    "        self.__revenue=value\n",
    "        return self.__revenue\n",
    "\n",
    "\n",
    "\n",
    "f1 = Finance()\n",
    "\n",
    "\n",
    "# Access through method (encapsulation respected)\n",
    "print(f1.get_revenue())   # ✅ 10000\n",
    "\n",
    "f1.set_revenue(20000)\n",
    "print(f1.get_revenue())   # ✅ 20000\n"
   ]
  }
 ],
 "metadata": {
  "kernelspec": {
   "display_name": "venv",
   "language": "python",
   "name": "python3"
  },
  "language_info": {
   "codemirror_mode": {
    "name": "ipython",
    "version": 3
   },
   "file_extension": ".py",
   "mimetype": "text/x-python",
   "name": "python",
   "nbconvert_exporter": "python",
   "pygments_lexer": "ipython3",
   "version": "3.12.0"
  }
 },
 "nbformat": 4,
 "nbformat_minor": 5
}
