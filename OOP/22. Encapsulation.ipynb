{
 "cells": [
  {
   "cell_type": "markdown",
   "id": "39432b01",
   "metadata": {},
   "source": [
    "# Encapsulation :- \n",
    "\n",
    "- wrapping up variables & methods working on data together in a single unit is called as encapsulation."
   ]
  },
  {
   "cell_type": "code",
   "execution_count": null,
   "id": "cbeec48b",
   "metadata": {},
   "outputs": [],
   "source": [
    "class Employee:\n",
    "    def __init__(self,name,salary):\n",
    "        self.name=name\n",
    "        self.salary=salary\n",
    "\n",
    "    def display(self):\n",
    "        print(f\" Name : {self.name} \\n Salary : {self.salary} \")\n",
    "\n",
    "e1= Employee(\"John\",50000)\n",
    "print(e1.name)\n",
    "        "
   ]
  }
 ],
 "metadata": {
  "kernelspec": {
   "display_name": "Python 3",
   "language": "python",
   "name": "python3"
  },
  "language_info": {
   "name": "python",
   "version": "3.12.0"
  }
 },
 "nbformat": 4,
 "nbformat_minor": 5
}
