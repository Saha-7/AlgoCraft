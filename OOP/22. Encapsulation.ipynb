{
 "cells": [
  {
   "cell_type": "markdown",
   "id": "39432b01",
   "metadata": {},
   "source": [
    "# Encapsulation :- \n",
    "\n",
    "- wrapping up variables & methods working on data together in a single unit is called as encapsulation."
   ]
  },
  {
   "cell_type": "markdown",
   "id": "3afe72d4",
   "metadata": {},
   "source": [
    "# Encapsulation usage:- \n",
    "\n",
    "- Encapsulation is used to restrict access to modification of data outside of class."
   ]
  },
  {
   "cell_type": "code",
   "execution_count": null,
   "id": "cbeec48b",
   "metadata": {},
   "outputs": [
    {
     "name": "stdout",
     "output_type": "stream",
     "text": [
      "John\n"
     ]
    }
   ],
   "source": [
    "class Employee:\n",
    "    def __init__(self,name,salary):\n",
    "        self.name=name\n",
    "        self.salary=salary\n",
    "\n",
    "    def display(self):\n",
    "        print(f\" Name : {self.name} \\n Salary : {self.salary} \")\n",
    "\n",
    "e1= Employee(\"John\",50000)\n",
    "\n",
    "print(e1.name)      ## Accessing via object refrence not allowed in Encapsulation\n",
    "e1.display()        ## Accessing through method allowed in Encapsulation\n",
    "        "
   ]
  },
  {
   "cell_type": "markdown",
   "id": "ac3d3940",
   "metadata": {},
   "source": [
    "# Access Modifiers in Python :- \n",
    "\n",
    "- Generally we restrict data access outside the class in encapsulation.\n",
    "\n",
    "- Encapsulation can be achieved by declaring the variables & methods of a class as private.\n",
    "\n",
    "- Three access specifiers:-\n",
    " 1. Public [ Accessible from anywhere by using object refrence ]\n",
    " 2. Private [ Accessible only within the class ]\n",
    " 3. Protected [ Accessible within the class & by derived class ]"
   ]
  },
  {
   "cell_type": "code",
   "execution_count": null,
   "id": "2828e515",
   "metadata": {},
   "outputs": [],
   "source": []
  }
 ],
 "metadata": {
  "kernelspec": {
   "display_name": "Python 3",
   "language": "python",
   "name": "python3"
  },
  "language_info": {
   "codemirror_mode": {
    "name": "ipython",
    "version": 3
   },
   "file_extension": ".py",
   "mimetype": "text/x-python",
   "name": "python",
   "nbconvert_exporter": "python",
   "pygments_lexer": "ipython3",
   "version": "3.12.0"
  }
 },
 "nbformat": 4,
 "nbformat_minor": 5
}
