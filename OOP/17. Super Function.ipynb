{
 "cells": [
  {
   "cell_type": "markdown",
   "id": "594ae8ea",
   "metadata": {},
   "source": [
    "# Super() function\n",
    "\n",
    "- Using super() function, we can access parent class properties.\n",
    "\n",
    "- This function returns a temporary object which contains reference to the parent class.\n",
    "\n",
    "- It makes inheritance more manageable & extensible."
   ]
  },
  {
   "cell_type": "code",
   "execution_count": null,
   "id": "c31a30d2",
   "metadata": {},
   "outputs": [
    {
     "name": "stdout",
     "output_type": "stream",
     "text": [
      "Computer class constructor called\n",
      "{'ram': '8gb', 'storage': '512gb'}\n",
      "Mobile class constructor called\n",
      "{'ram': '8gb', 'storage': '512gb', 'model': 'Iphone 15pro max'}\n"
     ]
    }
   ],
   "source": [
    "class Computer(object):\n",
    "    def __init__(self):\n",
    "        self.ram='8gb'\n",
    "        self.storage ='512gb'\n",
    "        print('Computer class constructor called')\n",
    "        \n",
    "\n",
    "class Mobile(Computer):\n",
    "    def __init__(self):\n",
    "        super().__init__()\n",
    "        self.model='Iphone 15pro max'\n",
    "        print('Mobile class constructor called')\n",
    "\n",
    "Apple=Mobile()\n",
    "print(Apple.__dict__)\n"
   ]
  }
 ],
 "metadata": {
  "kernelspec": {
   "display_name": "Python 3",
   "language": "python",
   "name": "python3"
  },
  "language_info": {
   "codemirror_mode": {
    "name": "ipython",
    "version": 3
   },
   "file_extension": ".py",
   "mimetype": "text/x-python",
   "name": "python",
   "nbconvert_exporter": "python",
   "pygments_lexer": "ipython3",
   "version": "3.12.0"
  }
 },
 "nbformat": 4,
 "nbformat_minor": 5
}
