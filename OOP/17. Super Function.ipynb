{
 "cells": [
  {
   "cell_type": "markdown",
   "id": "594ae8ea",
   "metadata": {},
   "source": [
    "# Super() function\n",
    "\n",
    "- Using super() function, we can access parent class properties.\n",
    "\n",
    "- This function returns a temporary object which contains reference to the parent class.\n",
    "\n",
    "- It makes inheritance more manageable & extensible."
   ]
  },
  {
   "cell_type": "code",
   "execution_count": null,
   "id": "c31a30d2",
   "metadata": {},
   "outputs": [
    {
     "name": "stdout",
     "output_type": "stream",
     "text": [
      "Computer class constructor called\n",
      "{'ram': '8gb', 'storage': '512gb'}\n",
      "Mobile class constructor called\n",
      "{'ram': '8gb', 'storage': '512gb', 'model': 'Iphone 15pro max'}\n"
     ]
    }
   ],
   "source": [
    "class Computer(object):\n",
    "    def __init__(self, ram, storage):\n",
    "        self.ram= ram\n",
    "        self.storage = storage\n",
    "        print('Computer class constructor called')\n",
    "        \n",
    "\n",
    "class Mobile(Computer):\n",
    "    def __init__(self):\n",
    "        super().__init__()\n",
    "        self.model='Iphone 15pro max'\n",
    "        print('Mobile class constructor called')\n",
    "\n",
    "Apple=Mobile('8gb','512gb')\n",
    "print(Apple.__dict__)\n"
   ]
  },
  {
   "cell_type": "code",
   "execution_count": null,
   "id": "3b6b0e18",
   "metadata": {},
   "outputs": [
    {
     "ename": "TypeError",
     "evalue": "Child.__init__() takes 1 positional argument but 3 were given",
     "output_type": "error",
     "traceback": [
      "\u001b[31m---------------------------------------------------------------------------\u001b[39m",
      "\u001b[31mTypeError\u001b[39m                                 Traceback (most recent call last)",
      "\u001b[36mCell\u001b[39m\u001b[36m \u001b[39m\u001b[32mIn[6]\u001b[39m\u001b[32m, line 17\u001b[39m\n\u001b[32m     14\u001b[39m         \u001b[38;5;28mself\u001b[39m.model=\u001b[33m'\u001b[39m\u001b[33mIphone 15pro max\u001b[39m\u001b[33m'\u001b[39m\n\u001b[32m     15\u001b[39m         \u001b[38;5;28mprint\u001b[39m(\u001b[33m'\u001b[39m\u001b[33mMobile class constructor called\u001b[39m\u001b[33m'\u001b[39m)\n\u001b[32m---> \u001b[39m\u001b[32m17\u001b[39m Apple=\u001b[43mChild\u001b[49m\u001b[43m(\u001b[49m\u001b[33;43m'\u001b[39;49m\u001b[33;43m8gb\u001b[39;49m\u001b[33;43m'\u001b[39;49m\u001b[43m,\u001b[49m\u001b[33;43m'\u001b[39;49m\u001b[33;43m512gb\u001b[39;49m\u001b[33;43m'\u001b[39;49m\u001b[43m)\u001b[49m\n\u001b[32m     18\u001b[39m \u001b[38;5;28mprint\u001b[39m(Apple.\u001b[34m__dict__\u001b[39m)\n",
      "\u001b[31mTypeError\u001b[39m: Child.__init__() takes 1 positional argument but 3 were given"
     ]
    }
   ],
   "source": [
    "class Parent(object):\n",
    "    def __init__(self, ram, storage):\n",
    "        self.ram= ram\n",
    "        self.storage = storage\n",
    "        print('Computer class constructor called')\n",
    "\n",
    "    def displayy(self):\n",
    "        print('Hello world')\n",
    "        \n",
    "\n",
    "class Child(Parent):\n",
    "    def __init__(self):\n",
    "        super().display()\n",
    "        self.model='Iphone 15pro max'\n",
    "        print('Mobile class constructor called')\n",
    "\n",
    "Apple=Child('8gb','512gb')\n",
    "print(Apple.__dict__)\n"
   ]
  }
 ],
 "metadata": {
  "kernelspec": {
   "display_name": "Python 3",
   "language": "python",
   "name": "python3"
  },
  "language_info": {
   "codemirror_mode": {
    "name": "ipython",
    "version": 3
   },
   "file_extension": ".py",
   "mimetype": "text/x-python",
   "name": "python",
   "nbconvert_exporter": "python",
   "pygments_lexer": "ipython3",
   "version": "3.12.0"
  }
 },
 "nbformat": 4,
 "nbformat_minor": 5
}
