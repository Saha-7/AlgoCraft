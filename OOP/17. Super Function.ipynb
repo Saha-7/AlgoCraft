{
 "cells": [
  {
   "cell_type": "markdown",
   "id": "594ae8ea",
   "metadata": {},
   "source": [
    "# Super() function\n",
    "\n",
    "- Using super() function, we can access parent class properties.\n",
    "\n",
    "- This function returns a temporary object which contains reference to the parent class.\n",
    "\n",
    "- It makes inheritance more manageable & extensible."
   ]
  },
  {
   "cell_type": "code",
   "execution_count": 12,
   "id": "c31a30d2",
   "metadata": {},
   "outputs": [
    {
     "name": "stdout",
     "output_type": "stream",
     "text": [
      "Computer class constructor called\n",
      "Mobile class constructor called\n",
      "{'ram': '8gb', 'storage': '512gb', 'model': 'Iphone 15pro max'}\n"
     ]
    }
   ],
   "source": [
    "# Define a parent class named Computer\n",
    "class Computer(object):  \n",
    "    \n",
    "    # Constructor of Computer, called when an object of Computer/Mobile is created\n",
    "    def __init__(self, ram, storage):  \n",
    "        # Assign the value of ram parameter to the instance variable self.ram\n",
    "        self.ram = ram  \n",
    "        # Assign the value of storage parameter to the instance variable self.storage\n",
    "        self.storage = storage  \n",
    "        # Print message when Computer constructor is called\n",
    "        print('Computer class constructor called')  \n",
    "\n",
    "\n",
    "# Define a child class named Mobile, which inherits from Computer\n",
    "class Mobile(Computer):  \n",
    "    \n",
    "    # Constructor of Mobile, called when an object of Mobile is created\n",
    "    def __init__(self, ram, storage):  \n",
    "        # Call the constructor of the parent class (Computer) \n",
    "        # so that ram and storage can be initialized\n",
    "        super().__init__(ram, storage)  \n",
    "        \n",
    "        # Add a new attribute 'model' specific to Mobile class\n",
    "        self.model = 'Iphone 15pro max'  \n",
    "        # Print message when Mobile constructor is called\n",
    "        print('Mobile class constructor called')  \n",
    "\n",
    "\n",
    "# Create an object of Mobile class, passing values for ram and storage\n",
    "# Execution first enters Mobile.__init__, then calls Computer.__init__ using super()\n",
    "Apple = Mobile('8gb', '512gb')  \n",
    "\n",
    "# Print all instance variables of the Apple object as a dictionary\n",
    "# Keys = variable names, Values = stored data\n",
    "print(Apple.__dict__)  \n"
   ]
  },
  {
   "cell_type": "code",
   "execution_count": null,
   "id": "3b6b0e18",
   "metadata": {},
   "outputs": [
    {
     "name": "stdout",
     "output_type": "stream",
     "text": [
      "Hello world\n",
      "Mobile class constructor called\n",
      "{'model': 'Iphone 15pro max'}\n"
     ]
    }
   ],
   "source": [
    "class Parent(object):\n",
    "    def __init__(self, ram, storage):\n",
    "        self.ram= ram\n",
    "        self.storage = storage\n",
    "        print('Computer class constructor called')\n",
    "\n",
    "    def display(self):\n",
    "        print('Hello world')\n",
    "        \n",
    "\n",
    "class Child(Parent):\n",
    "    def __init__(self,ram, storage):\n",
    "        super().display()\n",
    "        self.model='Iphone 15pro max'\n",
    "        print('Mobile class constructor called')\n",
    "\n",
    "Apple=Child('8gb','512gb')\n",
    "print(Apple.__dict__)\n"
   ]
  }
 ],
 "metadata": {
  "kernelspec": {
   "display_name": "Python 3",
   "language": "python",
   "name": "python3"
  },
  "language_info": {
   "codemirror_mode": {
    "name": "ipython",
    "version": 3
   },
   "file_extension": ".py",
   "mimetype": "text/x-python",
   "name": "python",
   "nbconvert_exporter": "python",
   "pygments_lexer": "ipython3",
   "version": "3.12.0"
  }
 },
 "nbformat": 4,
 "nbformat_minor": 5
}
