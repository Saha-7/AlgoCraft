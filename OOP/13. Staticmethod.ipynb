{
 "cells": [
  {
   "cell_type": "markdown",
   "id": "a2420251",
   "metadata": {},
   "source": [
    "# Types of Method\n",
    "\n",
    "1. Instance method\n",
    "2. Class method\n",
    "3. Static method"
   ]
  },
  {
   "cell_type": "markdown",
   "id": "1bed7105",
   "metadata": {},
   "source": [
    "# Static Methods\n",
    "\n",
    "- Methods which performs operations on external data(outside Class & Objects)\n",
    "- But it can also perform operations on class data\n",
    "- no need to pass object or class reference\n",
    "- created using decorator '@staticmethod'"
   ]
  },
  {
   "cell_type": "code",
   "execution_count": null,
   "id": "a5405800",
   "metadata": {},
   "outputs": [],
   "source": [
    "class Bank:\n",
    "    bankName = \"BOI\"\n",
    "    roi = 12.25\n",
    "\n",
    "    @staticmethod\n",
    "    def simpleinterest(prin,n):\n",
    "        si = (prin*n*roi)/100\n",
    "        print(si)\n",
    "\n",
    "\n",
    "Banl.simpleinterest(20000,3)"
   ]
  }
 ],
 "metadata": {
  "kernelspec": {
   "display_name": "Python 3",
   "language": "python",
   "name": "python3"
  },
  "language_info": {
   "name": "python",
   "version": "3.12.0"
  }
 },
 "nbformat": 4,
 "nbformat_minor": 5
}
