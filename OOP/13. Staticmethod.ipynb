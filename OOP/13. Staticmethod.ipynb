{
 "cells": [
  {
   "cell_type": "markdown",
   "id": "a2420251",
   "metadata": {},
   "source": [
    "# Types of Method\n",
    "\n",
    "1. Instance method\n",
    "2. Class method\n",
    "3. Static method"
   ]
  },
  {
   "cell_type": "markdown",
   "id": "1bed7105",
   "metadata": {},
   "source": [
    "# Static Methods\n",
    "\n",
    "- Methods which performs operations on external data(outside Class & Objects)\n",
    "- But it can also perform operations on class data\n",
    "- no need to pass object or class reference\n",
    "- created using decorator '@staticmethod'"
   ]
  },
  {
   "cell_type": "code",
   "execution_count": 4,
   "id": "a5405800",
   "metadata": {},
   "outputs": [
    {
     "name": "stdout",
     "output_type": "stream",
     "text": [
      "7350.0\n"
     ]
    }
   ],
   "source": [
    "class Bank:\n",
    "    bankName = \"BOI\"\n",
    "    roi = 12.25\n",
    "    @staticmethod\n",
    "    def simpleinterest(prin,n):\n",
    "        si = (prin*n*Bank.roi)/100\n",
    "        print(si)\n",
    "\n",
    "\n",
    "Bank.simpleinterest(20000,3)"
   ]
  }
 ],
 "metadata": {
  "kernelspec": {
   "display_name": "Python 3",
   "language": "python",
   "name": "python3"
  },
  "language_info": {
   "codemirror_mode": {
    "name": "ipython",
    "version": 3
   },
   "file_extension": ".py",
   "mimetype": "text/x-python",
   "name": "python",
   "nbconvert_exporter": "python",
   "pygments_lexer": "ipython3",
   "version": "3.12.0"
  }
 },
 "nbformat": 4,
 "nbformat_minor": 5
}
