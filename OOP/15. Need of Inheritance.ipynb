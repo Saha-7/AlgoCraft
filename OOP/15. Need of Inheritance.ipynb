{
 "cells": [
  {
   "cell_type": "markdown",
   "id": "243a28a9",
   "metadata": {},
   "source": [
    "# Need of inheritance\n",
    "\n",
    "- For Code Reusability\n",
    "- When you have relations among classes"
   ]
  },
  {
   "cell_type": "code",
   "execution_count": null,
   "id": "8e5099ca",
   "metadata": {},
   "outputs": [],
   "source": []
  }
 ],
 "metadata": {
  "kernelspec": {
   "display_name": "Python 3",
   "language": "python",
   "name": "python3"
  },
  "language_info": {
   "name": "python",
   "version": "3.12.0"
  }
 },
 "nbformat": 4,
 "nbformat_minor": 5
}
