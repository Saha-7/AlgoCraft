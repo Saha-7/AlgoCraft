{
 "cells": [
  {
   "cell_type": "markdown",
   "id": "243a28a9",
   "metadata": {},
   "source": [
    "# Need of inheritance\n",
    "\n",
    "- For Code Reusability\n",
    "- When you have relations among classes"
   ]
  },
  {
   "cell_type": "code",
   "execution_count": null,
   "id": "8e5099ca",
   "metadata": {},
   "outputs": [],
   "source": [
    "### Single Inheritance ###\n",
    "## Parent class\n",
    "class Car:\n",
    "    def __init__(self,doors,window,engineType):\n",
    "        self.doors=doors\n",
    "        self.window=window\n",
    "        self.engineType=engineType\n",
    "\n",
    "    def drive(self):\n",
    "        print(f\"The person will drive a {self.engineType} car\")\n",
    "    \n",
    "parent = Car(2,2,\"Petrol\")\n",
    "parent.drive()\n",
    "\n",
    "\n",
    "## Child Class\n",
    "class Tesla(Car):                          # Tesla inherits from Car\n",
    "    def __init__(self, doors, window, engineType, isSelfDriving):\n",
    "        super().__init__(doors, window, engineType)  # call parent __init__ to set doors, windows, engine\n",
    "        self.isSelfDriving = isSelfDriving           # child-specific property\n",
    "\n",
    "    def selfDrive(self):\n",
    "        print(f\"Tesla support self driving: {self.isSelfDriving}\")  # child-specific method\n",
    "\n",
    "child = Tesla(2, 2, \"Electric\", True)       # create Tesla object (inherits Car's attributes & methods)\n",
    "child.drive()                              # call inherited method from Car\n",
    "child.selfDrive()                          # call Tesla's own method"
   ]
  }
 ],
 "metadata": {
  "kernelspec": {
   "display_name": "Python 3",
   "language": "python",
   "name": "python3"
  },
  "language_info": {
   "name": "python",
   "version": "3.12.0"
  }
 },
 "nbformat": 4,
 "nbformat_minor": 5
}
