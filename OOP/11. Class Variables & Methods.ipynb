{
 "cells": [
  {
   "cell_type": "markdown",
   "id": "e472e668",
   "metadata": {},
   "source": [
    "# Class Variables\n",
    "\n",
    "- Variables made for the entire class(all objects)\n",
    "- Only one copy is created & distributed to all objects\n",
    "- Modification in class variables impact on all objects."
   ]
  },
  {
   "cell_type": "code",
   "execution_count": 2,
   "id": "a1770c78",
   "metadata": {},
   "outputs": [
    {
     "name": "stdout",
     "output_type": "stream",
     "text": [
      "Honeywell\n",
      "Honeywell\n",
      "Tesla\n",
      "Google\n",
      "{'name': 'Pritam', 'age': 25, 'companyName': 'Google'}\n"
     ]
    }
   ],
   "source": [
    "class Employee:\n",
    "\n",
    "    companyName = \"Honeywell\"\n",
    "\n",
    "    def __init__(self,name,age):\n",
    "        self.name=name\n",
    "        self.age=age\n",
    "        \n",
    "\n",
    "e1 = Employee('Pritam', 25)\n",
    "e2 = Employee('Rahul', 23)\n",
    "\n",
    "## Access class variables via Class name & object name\n",
    "print(Employee.companyName)\n",
    "print(e1.companyName)\n",
    "\n",
    "## Modification of Class variable only possible via Class name\n",
    "Employee.companyName=\"Tesla\"\n",
    "print(Employee.companyName)\n",
    "\n",
    "\n",
    "## this will not work, it adds an instance variable to the object.\n",
    "e1.companyName=\"Google\"\n",
    "print(e1.companyName)\n",
    "print(e1.__dict__)\n",
    "\n",
    "\n"
   ]
  },
  {
   "cell_type": "markdown",
   "id": "11ce4b44",
   "metadata": {},
   "source": [
    "# Class Method\n",
    "\n",
    "- Method which works on class variables.\n",
    "- First argument is class reference(\"cls\" similar to \"self\" which is for instance)\n",
    "- Made using decorator '@classmethod'"
   ]
  },
  {
   "cell_type": "code",
   "execution_count": null,
   "id": "ca770bf6",
   "metadata": {},
   "outputs": [],
   "source": [
    "class Employee:\n",
    "\n",
    "    companyName = \"Honeywell\"\n",
    "\n",
    "    def __init__(self,name,age):\n",
    "        self.name=name\n",
    "        self.age=age\n",
    "\n",
    "    @classmethod            # Decorator\n",
    "    def get_CompanyName(cls):\n",
    "        print(cls.companyName)\n",
    "        cls.companyName = \"Meta\"  ## Modifying Company Name will took effect in all objects\n",
    "        print(cls.companyName)\n",
    "\n",
    "        \n",
    "\n",
    "e1 = Employee('Pritam', 25)\n",
    "e2 = Employee('Rahul', 23)\n",
    "\n",
    "\n",
    "## Accessing class variable via Class Methods \n",
    "Employee.get_CompanyName()\n"
   ]
  }
 ],
 "metadata": {
  "kernelspec": {
   "display_name": "venv",
   "language": "python",
   "name": "python3"
  },
  "language_info": {
   "codemirror_mode": {
    "name": "ipython",
    "version": 3
   },
   "file_extension": ".py",
   "mimetype": "text/x-python",
   "name": "python",
   "nbconvert_exporter": "python",
   "pygments_lexer": "ipython3",
   "version": "3.12.0"
  }
 },
 "nbformat": 4,
 "nbformat_minor": 5
}
