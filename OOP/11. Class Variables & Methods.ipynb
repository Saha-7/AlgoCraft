{
 "cells": [
  {
   "cell_type": "markdown",
   "id": "e472e668",
   "metadata": {},
   "source": [
    "# Class Variables\n",
    "\n",
    "- Variables made for the entire class(all objects)\n",
    "- Only one copy is created & distributed to all objects\n",
    "- Modification in class variables impact on all objects."
   ]
  },
  {
   "cell_type": "code",
   "execution_count": null,
   "id": "a1770c78",
   "metadata": {},
   "outputs": [],
   "source": [
    "class Employee:\n",
    "    def __init__(self,name,age):\n",
    "        self.name=name\n",
    "        self.age=age\n",
    "        \n",
    "\n",
    "e1 = Employee('Pritam', 25)\n",
    "e2 = Employee('Rahul', 23)"
   ]
  }
 ],
 "metadata": {
  "kernelspec": {
   "display_name": "venv",
   "language": "python",
   "name": "python3"
  },
  "language_info": {
   "name": "python",
   "version": "3.12.0"
  }
 },
 "nbformat": 4,
 "nbformat_minor": 5
}
