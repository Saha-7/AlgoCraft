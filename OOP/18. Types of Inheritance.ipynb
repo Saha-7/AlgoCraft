{
 "cells": [
  {
   "cell_type": "markdown",
   "id": "4b8dd467",
   "metadata": {},
   "source": [
    "# Types of Inheritance :-\n",
    "\n",
    "- Single Inheritance\n",
    "- Multi-level Inheritance\n",
    "- Hierarchical Inheritance\n",
    "- Multiple Inheritance\n",
    "- Hybrid Inheritance\n",
    "- Cyclic Inheritance"
   ]
  },
  {
   "cell_type": "markdown",
   "id": "3815d975",
   "metadata": {},
   "source": [
    "## Single Inheritance :- \n",
    "\n",
    "- Single Parent class & single child class"
   ]
  },
  {
   "cell_type": "markdown",
   "id": "4e69dbc5",
   "metadata": {},
   "source": [
    "## Multi-level Inheritance :- \n",
    "\n",
    "- Parent class & child class further inherited into new class forming multiple levels."
   ]
  },
  {
   "cell_type": "code",
   "execution_count": null,
   "id": "df822919",
   "metadata": {},
   "outputs": [
    {
     "name": "stdout",
     "output_type": "stream",
     "text": [
      "Employee constructor called\n"
     ]
    }
   ],
   "source": [
    "class Human(object):\n",
    "    def __init__(self):\n",
    "        print(\"Human being constructor called\")\n",
    "        self.name=input(\"Enter your name:\")\n",
    "\n",
    "class Employee(Human):\n",
    "    def __init__(self):\n",
    "        print(\"Employee constructor called\")\n",
    "        self.salary=float(input(\"Enter your salary:\"))\n",
    "        \n",
    "\n",
    "class Managers(Employee):\n",
    "    pass\n",
    "\n",
    "\n",
    "m1=Managers()"
   ]
  }
 ],
 "metadata": {
  "kernelspec": {
   "display_name": "Python 3",
   "language": "python",
   "name": "python3"
  },
  "language_info": {
   "codemirror_mode": {
    "name": "ipython",
    "version": 3
   },
   "file_extension": ".py",
   "mimetype": "text/x-python",
   "name": "python",
   "nbconvert_exporter": "python",
   "pygments_lexer": "ipython3",
   "version": "3.12.0"
  }
 },
 "nbformat": 4,
 "nbformat_minor": 5
}
